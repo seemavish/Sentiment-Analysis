{
  "cells": [
    {
      "cell_type": "markdown",
      "metadata": {
        "id": "view-in-github",
        "colab_type": "text"
      },
      "source": [
        "<a href=\"https://colab.research.google.com/github/seemavish/Sentiment-Analysis/blob/main/naive_bayes.ipynb\" target=\"_parent\"><img src=\"https://colab.research.google.com/assets/colab-badge.svg\" alt=\"Open In Colab\"/></a>"
      ]
    },
    {
      "cell_type": "markdown",
      "metadata": {
        "id": "7ZA8htf0Bols"
      },
      "source": [
        "SENTIMENT ANALYSIS WITH LOGISTIC REGRESSION"
      ]
    },
    {
      "cell_type": "code",
      "execution_count": null,
      "metadata": {
        "id": "02cAqVbdBolv"
      },
      "outputs": [],
      "source": [
        "import time\n",
        "import numpy as np\n",
        "import pandas as pd\n",
        "import matplotlib.pyplot as plt\n",
        "from sklearn.naive_bayes import MultinomialNB\n",
        "from sklearn.model_selection import train_test_split\n",
        "from sklearn.feature_extraction.text import CountVectorizer\n",
        "from sklearn.mixture import BayesianGaussianMixture\n",
        "from sklearn.metrics import ConfusionMatrixDisplay\n",
        "from sklearn.metrics import roc_auc_score"
      ]
    },
    {
      "cell_type": "code",
      "execution_count": null,
      "metadata": {
        "colab": {
          "base_uri": "https://localhost:8080/"
        },
        "id": "33HqemB5BwDJ",
        "outputId": "aeeae1dc-2f80-494d-9111-7c31dfa6c6b2"
      },
      "outputs": [
        {
          "output_type": "stream",
          "name": "stdout",
          "text": [
            "Mounted at /content/gdrive\n"
          ]
        }
      ],
      "source": [
        "from google.colab import drive\n",
        "drive.mount('/content/gdrive')"
      ]
    },
    {
      "cell_type": "code",
      "execution_count": null,
      "metadata": {
        "colab": {
          "base_uri": "https://localhost:8080/"
        },
        "id": "Mhp1CUgLBwhA",
        "outputId": "f7150f4f-ed0a-441f-ef49-397f56934fa8"
      },
      "outputs": [
        {
          "output_type": "stream",
          "name": "stdout",
          "text": [
            "unzip:  cannot find or open /content/gdrive/MyDrive/Colab Notebooks/archive.zip, /content/gdrive/MyDrive/Colab Notebooks/archive.zip.zip or /content/gdrive/MyDrive/Colab Notebooks/archive.zip.ZIP.\n"
          ]
        }
      ],
      "source": [
        "!unzip /content/gdrive/MyDrive/Colab\\ Notebooks/archive.zip"
      ]
    },
    {
      "cell_type": "code",
      "execution_count": null,
      "metadata": {
        "id": "K4UwZElwBolx"
      },
      "outputs": [],
      "source": [
        "start = time.time()"
      ]
    },
    {
      "cell_type": "code",
      "execution_count": null,
      "metadata": {
        "id": "BwfSkLxPBywA"
      },
      "outputs": [],
      "source": [
        "dataset = pd.read_csv('/content/gdrive/MyDrive/Course Material/Academic Year 3/Trimester 8/COMP345: ML/IMDB Dataset.csv')"
      ]
    },
    {
      "cell_type": "code",
      "execution_count": null,
      "metadata": {
        "id": "su35h4j4Bolx",
        "colab": {
          "base_uri": "https://localhost:8080/",
          "height": 983
        },
        "outputId": "533be6a7-2843-40a9-9517-9c5f37844c69"
      },
      "outputs": [
        {
          "output_type": "execute_result",
          "data": {
            "text/plain": [
              "                                              review sentiment\n",
              "0  One of the other reviewers has mentioned that ...  positive\n",
              "1  A wonderful little production. <br /><br />The...  positive\n",
              "2  I thought this was a wonderful way to spend ti...  positive\n",
              "3  Basically there's a family where a little boy ...  negative\n",
              "4  Petter Mattei's \"Love in the Time of Money\" is...  positive\n",
              "5  Probably my all-time favorite movie, a story o...  positive\n",
              "6  I sure would like to see a resurrection of a u...  positive\n",
              "7  This show was an amazing, fresh & innovative i...  negative\n",
              "8  Encouraged by the positive comments about this...  negative\n",
              "9  If you like original gut wrenching laughter yo...  positive"
            ],
            "text/html": [
              "\n",
              "  <div id=\"df-41ac3d76-c85c-44c5-9b85-6458a43f9564\">\n",
              "    <div class=\"colab-df-container\">\n",
              "      <div>\n",
              "<style scoped>\n",
              "    .dataframe tbody tr th:only-of-type {\n",
              "        vertical-align: middle;\n",
              "    }\n",
              "\n",
              "    .dataframe tbody tr th {\n",
              "        vertical-align: top;\n",
              "    }\n",
              "\n",
              "    .dataframe thead th {\n",
              "        text-align: right;\n",
              "    }\n",
              "</style>\n",
              "<table border=\"1\" class=\"dataframe\">\n",
              "  <thead>\n",
              "    <tr style=\"text-align: right;\">\n",
              "      <th></th>\n",
              "      <th>review</th>\n",
              "      <th>sentiment</th>\n",
              "    </tr>\n",
              "  </thead>\n",
              "  <tbody>\n",
              "    <tr>\n",
              "      <th>0</th>\n",
              "      <td>One of the other reviewers has mentioned that ...</td>\n",
              "      <td>positive</td>\n",
              "    </tr>\n",
              "    <tr>\n",
              "      <th>1</th>\n",
              "      <td>A wonderful little production. &lt;br /&gt;&lt;br /&gt;The...</td>\n",
              "      <td>positive</td>\n",
              "    </tr>\n",
              "    <tr>\n",
              "      <th>2</th>\n",
              "      <td>I thought this was a wonderful way to spend ti...</td>\n",
              "      <td>positive</td>\n",
              "    </tr>\n",
              "    <tr>\n",
              "      <th>3</th>\n",
              "      <td>Basically there's a family where a little boy ...</td>\n",
              "      <td>negative</td>\n",
              "    </tr>\n",
              "    <tr>\n",
              "      <th>4</th>\n",
              "      <td>Petter Mattei's \"Love in the Time of Money\" is...</td>\n",
              "      <td>positive</td>\n",
              "    </tr>\n",
              "    <tr>\n",
              "      <th>5</th>\n",
              "      <td>Probably my all-time favorite movie, a story o...</td>\n",
              "      <td>positive</td>\n",
              "    </tr>\n",
              "    <tr>\n",
              "      <th>6</th>\n",
              "      <td>I sure would like to see a resurrection of a u...</td>\n",
              "      <td>positive</td>\n",
              "    </tr>\n",
              "    <tr>\n",
              "      <th>7</th>\n",
              "      <td>This show was an amazing, fresh &amp; innovative i...</td>\n",
              "      <td>negative</td>\n",
              "    </tr>\n",
              "    <tr>\n",
              "      <th>8</th>\n",
              "      <td>Encouraged by the positive comments about this...</td>\n",
              "      <td>negative</td>\n",
              "    </tr>\n",
              "    <tr>\n",
              "      <th>9</th>\n",
              "      <td>If you like original gut wrenching laughter yo...</td>\n",
              "      <td>positive</td>\n",
              "    </tr>\n",
              "  </tbody>\n",
              "</table>\n",
              "</div>\n",
              "      <button class=\"colab-df-convert\" onclick=\"convertToInteractive('df-41ac3d76-c85c-44c5-9b85-6458a43f9564')\"\n",
              "              title=\"Convert this dataframe to an interactive table.\"\n",
              "              style=\"display:none;\">\n",
              "        \n",
              "  <svg xmlns=\"http://www.w3.org/2000/svg\" height=\"24px\"viewBox=\"0 0 24 24\"\n",
              "       width=\"24px\">\n",
              "    <path d=\"M0 0h24v24H0V0z\" fill=\"none\"/>\n",
              "    <path d=\"M18.56 5.44l.94 2.06.94-2.06 2.06-.94-2.06-.94-.94-2.06-.94 2.06-2.06.94zm-11 1L8.5 8.5l.94-2.06 2.06-.94-2.06-.94L8.5 2.5l-.94 2.06-2.06.94zm10 10l.94 2.06.94-2.06 2.06-.94-2.06-.94-.94-2.06-.94 2.06-2.06.94z\"/><path d=\"M17.41 7.96l-1.37-1.37c-.4-.4-.92-.59-1.43-.59-.52 0-1.04.2-1.43.59L10.3 9.45l-7.72 7.72c-.78.78-.78 2.05 0 2.83L4 21.41c.39.39.9.59 1.41.59.51 0 1.02-.2 1.41-.59l7.78-7.78 2.81-2.81c.8-.78.8-2.07 0-2.86zM5.41 20L4 18.59l7.72-7.72 1.47 1.35L5.41 20z\"/>\n",
              "  </svg>\n",
              "      </button>\n",
              "      \n",
              "  <style>\n",
              "    .colab-df-container {\n",
              "      display:flex;\n",
              "      flex-wrap:wrap;\n",
              "      gap: 12px;\n",
              "    }\n",
              "\n",
              "    .colab-df-convert {\n",
              "      background-color: #E8F0FE;\n",
              "      border: none;\n",
              "      border-radius: 50%;\n",
              "      cursor: pointer;\n",
              "      display: none;\n",
              "      fill: #1967D2;\n",
              "      height: 32px;\n",
              "      padding: 0 0 0 0;\n",
              "      width: 32px;\n",
              "    }\n",
              "\n",
              "    .colab-df-convert:hover {\n",
              "      background-color: #E2EBFA;\n",
              "      box-shadow: 0px 1px 2px rgba(60, 64, 67, 0.3), 0px 1px 3px 1px rgba(60, 64, 67, 0.15);\n",
              "      fill: #174EA6;\n",
              "    }\n",
              "\n",
              "    [theme=dark] .colab-df-convert {\n",
              "      background-color: #3B4455;\n",
              "      fill: #D2E3FC;\n",
              "    }\n",
              "\n",
              "    [theme=dark] .colab-df-convert:hover {\n",
              "      background-color: #434B5C;\n",
              "      box-shadow: 0px 1px 3px 1px rgba(0, 0, 0, 0.15);\n",
              "      filter: drop-shadow(0px 1px 2px rgba(0, 0, 0, 0.3));\n",
              "      fill: #FFFFFF;\n",
              "    }\n",
              "  </style>\n",
              "\n",
              "      <script>\n",
              "        const buttonEl =\n",
              "          document.querySelector('#df-41ac3d76-c85c-44c5-9b85-6458a43f9564 button.colab-df-convert');\n",
              "        buttonEl.style.display =\n",
              "          google.colab.kernel.accessAllowed ? 'block' : 'none';\n",
              "\n",
              "        async function convertToInteractive(key) {\n",
              "          const element = document.querySelector('#df-41ac3d76-c85c-44c5-9b85-6458a43f9564');\n",
              "          const dataTable =\n",
              "            await google.colab.kernel.invokeFunction('convertToInteractive',\n",
              "                                                     [key], {});\n",
              "          if (!dataTable) return;\n",
              "\n",
              "          const docLinkHtml = 'Like what you see? Visit the ' +\n",
              "            '<a target=\"_blank\" href=https://colab.research.google.com/notebooks/data_table.ipynb>data table notebook</a>'\n",
              "            + ' to learn more about interactive tables.';\n",
              "          element.innerHTML = '';\n",
              "          dataTable['output_type'] = 'display_data';\n",
              "          await google.colab.output.renderOutput(dataTable, element);\n",
              "          const docLink = document.createElement('div');\n",
              "          docLink.innerHTML = docLinkHtml;\n",
              "          element.appendChild(docLink);\n",
              "        }\n",
              "      </script>\n",
              "    </div>\n",
              "  </div>\n",
              "  "
            ]
          },
          "metadata": {},
          "execution_count": 6
        }
      ],
      "source": [
        "dataset.head(10)"
      ]
    },
    {
      "cell_type": "code",
      "execution_count": null,
      "metadata": {
        "colab": {
          "base_uri": "https://localhost:8080/"
        },
        "id": "qhLaCs2dBoly",
        "outputId": "fd9c1e8f-d7e9-48e9-8084-3d689fafd6d6"
      },
      "outputs": [
        {
          "output_type": "stream",
          "name": "stdout",
          "text": [
            "Shape:  (50000, 2)\n"
          ]
        },
        {
          "output_type": "execute_result",
          "data": {
            "text/plain": [
              "review       0\n",
              "sentiment    0\n",
              "dtype: int64"
            ]
          },
          "metadata": {},
          "execution_count": 7
        }
      ],
      "source": [
        "print(\"Shape: \",dataset.shape)\n",
        "dataset.isna().sum()"
      ]
    },
    {
      "cell_type": "code",
      "execution_count": null,
      "metadata": {
        "colab": {
          "base_uri": "https://localhost:8080/"
        },
        "id": "vmUksg1tBolz",
        "outputId": "138eabf4-19eb-43a8-d243-0459c23502a9"
      },
      "outputs": [
        {
          "output_type": "stream",
          "name": "stdout",
          "text": [
            "Before eliminating duplicates:  (50000, 2)\n",
            "Duplicates found: 418 \n",
            " 0        False\n",
            "1        False\n",
            "2        False\n",
            "3        False\n",
            "4        False\n",
            "         ...  \n",
            "49995    False\n",
            "49996    False\n",
            "49997    False\n",
            "49998    False\n",
            "49999    False\n",
            "Length: 50000, dtype: bool\n",
            "After eliminating duplicates:  (49582, 2)\n"
          ]
        }
      ],
      "source": [
        "print(\"Before eliminating duplicates: \",dataset.shape)\n",
        "\n",
        "print(\"Duplicates found:\",dataset.duplicated().sum(),\"\\n\", dataset.duplicated())\n",
        "\n",
        "dataset = dataset.drop_duplicates()\n",
        "\n",
        "print(\"After eliminating duplicates: \",dataset.shape)"
      ]
    },
    {
      "cell_type": "code",
      "execution_count": null,
      "metadata": {
        "id": "wgnm8rpbBolz"
      },
      "outputs": [],
      "source": [
        "vectorizer = CountVectorizer(stop_words='english', min_df=20)\n",
        "x = vectorizer.fit_transform(dataset.review)    #write code to fit transform text\n",
        "y = dataset.sentiment # target column\n",
        "\n"
      ]
    },
    {
      "cell_type": "code",
      "execution_count": null,
      "metadata": {
        "id": "95UIaou_Bolz"
      },
      "outputs": [],
      "source": [
        "x_train, x_test, y_train, y_test = train_test_split(x, y, test_size = 0.5, train_size=0.5)  # split the data into half\n"
      ]
    },
    {
      "cell_type": "code",
      "execution_count": null,
      "metadata": {
        "colab": {
          "base_uri": "https://localhost:8080/"
        },
        "id": "fWoi9Bf-Bol0",
        "outputId": "6092d3d8-0ef6-4165-c3a7-7fd15f9a8b81"
      },
      "outputs": [
        {
          "output_type": "stream",
          "name": "stdout",
          "text": [
            "Estimation_time = 57.0301148891449\n"
          ]
        }
      ],
      "source": [
        "end = time.time()\n",
        "\n",
        "print(\"Estimation_time =\", end-start)"
      ]
    },
    {
      "cell_type": "code",
      "execution_count": null,
      "metadata": {
        "colab": {
          "base_uri": "https://localhost:8080/"
        },
        "id": "crAe6-hzBol0",
        "outputId": "bc24630b-58b7-4d89-b88a-c347d4c58eee"
      },
      "outputs": [
        {
          "output_type": "stream",
          "name": "stdout",
          "text": [
            "(24791, 17511)\n"
          ]
        }
      ],
      "source": [
        "print(x_train.shape)"
      ]
    },
    {
      "cell_type": "code",
      "execution_count": null,
      "metadata": {
        "colab": {
          "base_uri": "https://localhost:8080/"
        },
        "id": "_JtyHHQoBol1",
        "outputId": "dc69677c-1b82-4a6c-f5ab-599e6cb169b5"
      },
      "outputs": [
        {
          "output_type": "stream",
          "name": "stdout",
          "text": [
            "Training time: 0.074945s; Prediction time: 0.012984s\n"
          ]
        }
      ],
      "source": [
        "#  Perform classification with Naive Bayes theorem\n",
        "\n",
        "naive_model = MultinomialNB()\n",
        "t0 = time.time()\n",
        "naive_model.fit(x_train,y_train)  # train Naive Bayes classifier using MultinomialNB\n",
        "t1 = time.time()\n",
        "# fit the model to predict the labels in the test data\n",
        "pred = naive_model.predict(x_test)\n",
        "t2 = time.time()\n",
        "\n",
        "time_linear_train = t1-t0\n",
        "time_linear_predict = t2-t1\n",
        "\n",
        "print(\"Training time: %fs; Prediction time: %fs\" % (time_linear_train, time_linear_predict))"
      ]
    },
    {
      "cell_type": "code",
      "execution_count": null,
      "metadata": {
        "colab": {
          "base_uri": "https://localhost:8080/"
        },
        "id": "dfR_t5srBol1",
        "outputId": "d9d08a06-608f-4aa9-cfb1-630a76f9176f"
      },
      "outputs": [
        {
          "output_type": "stream",
          "name": "stdout",
          "text": [
            "Accuracy Score ->  84.92194748094066\n"
          ]
        }
      ],
      "source": [
        "from sklearn.metrics import accuracy_score\n",
        "print(\"Accuracy Score -> \",accuracy_score(pred, y_test)*100)"
      ]
    },
    {
      "cell_type": "code",
      "execution_count": null,
      "metadata": {
        "id": "mN6_DAEDBol1"
      },
      "outputs": [],
      "source": [
        "# %matplotlib inline\n",
        "# from sklearn.metrics import plot_confusion_matrix\n",
        "# # write code to plot confusion matrix, give correct label names\n",
        "# matrix = plot_confusion_matrix(naive_model, x_test, y_test, cmap=plt.cm.Blues)\n",
        "# matrix.ax_.set_title('Confusion Matrix')\n",
        "# plt.xlabel('Predicted Label')\n",
        "# plt.ylabel('True Label')\n",
        "# plt.gcf().axes[0].tick_params()\n",
        "# plt.gcf().axes[1].tick_params()\n",
        "# plt.show()"
      ]
    },
    {
      "cell_type": "code",
      "source": [
        "from sklearn.metrics import ConfusionMatrixDisplay, confusion_matrix\n",
        "\n",
        "# write code to plot confusion matrix, give correct label names\n",
        "matrix = confusion_matrix(y_test, pred)\n",
        "display = ConfusionMatrixDisplay(confusion_matrix = matrix)\n",
        "display.plot(cmap=plt.cm.Blues)\n",
        "plt.show()"
      ],
      "metadata": {
        "colab": {
          "base_uri": "https://localhost:8080/",
          "height": 449
        },
        "id": "wZ2yGvLoergw",
        "outputId": "e527c085-c40a-4d7c-ebec-c6fc3c5250ff"
      },
      "execution_count": null,
      "outputs": [
        {
          "output_type": "display_data",
          "data": {
            "text/plain": [
              "<Figure size 640x480 with 2 Axes>"
            ],
            "image/png": "[encoded data removed]"
          },
          "metadata": {}
        }
      ]
    },
    {
      "cell_type": "code",
      "execution_count": null,
      "metadata": {
        "colab": {
          "base_uri": "https://localhost:8080/"
        },
        "id": "YG2L7HyvBol2",
        "outputId": "42653054-7445-43ff-c537-3294ee270819"
      },
      "outputs": [
        {
          "output_type": "stream",
          "name": "stdout",
          "text": [
            "positive:  {'precision': 0.8577144286071517, 'recall': 0.8351594838081324, 'f1-score': 0.846286701208981, 'support': 12321}\n",
            "negative:  {'precision': 0.8412537126778177, 'recall': 0.8631114675220529, 'f1-score': 0.852042431918936, 'support': 12470}\n"
          ]
        }
      ],
      "source": [
        "from sklearn.metrics import classification_report\n",
        "report = classification_report(y_test, pred, output_dict=True)\n",
        "print('positive: ', report['positive'])\n",
        "print('negative: ', report['negative'])\n",
        "\n"
      ]
    },
    {
      "cell_type": "code",
      "execution_count": null,
      "metadata": {
        "colab": {
          "base_uri": "https://localhost:8080/",
          "height": 472
        },
        "id": "rZ5hLaKEBol2",
        "outputId": "d9d09a61-33ae-4c7a-cc6f-35e368f5e603"
      },
      "outputs": [
        {
          "output_type": "display_data",
          "data": {
            "text/plain": [
              "<Figure size 640x480 with 1 Axes>"
            ],
            "image/png": "[encoded data removed]"
          },
          "metadata": {}
        }
      ],
      "source": [
        "from sklearn.metrics import PrecisionRecallDisplay,f1_score\n",
        "#write code here\n",
        "matrix = PrecisionRecallDisplay.from_estimator(naive_model,x_test,y_test)\n",
        "matrix.ax_.set_title('Precision Recall Curve')\n",
        "plt.xlabel('Recall')\n",
        "plt.ylabel('Precision')\n",
        "plt.show()"
      ]
    },
    {
      "cell_type": "code",
      "execution_count": null,
      "metadata": {
        "id": "We7-ai1mBol3",
        "colab": {
          "base_uri": "https://localhost:8080/"
        },
        "outputId": "59303804-407c-480c-8ab5-bda93b1a4424"
      },
      "outputs": [
        {
          "output_type": "execute_result",
          "data": {
            "text/plain": [
              "0.8492194748094066"
            ]
          },
          "metadata": {},
          "execution_count": 30
        }
      ],
      "source": [
        "naive_model.score(x_test,y_test) # this model is 85% accurate"
      ]
    },
    {
      "cell_type": "code",
      "execution_count": null,
      "metadata": {
        "id": "rJg-jDi3Bol3",
        "colab": {
          "base_uri": "https://localhost:8080/"
        },
        "outputId": "d24aada6-0c07-4822-c811-c62e10c2c1de"
      },
      "outputs": [
        {
          "output_type": "execute_result",
          "data": {
            "text/plain": [
              "0.9158534463720965"
            ]
          },
          "metadata": {},
          "execution_count": 31
        }
      ],
      "source": [
        "probabilities = naive_model.predict_proba(x_test)     #get probabilities using predict_proba\n",
        "\n",
        "#the roc score shows how well the classification model works\n",
        "roc_auc_score(y_test, probabilities[:, 1])      # the roc score is almost equal to 1 which means the classifier can perfectly distinguish between positive and negative reviews"
      ]
    },
    {
      "cell_type": "code",
      "execution_count": null,
      "metadata": {
        "id": "TwpsCdbzBol3",
        "colab": {
          "base_uri": "https://localhost:8080/"
        },
        "outputId": "c1cfea6e-b5ef-4556-bfc4-b87dc7b30270"
      },
      "outputs": [
        {
          "output_type": "execute_result",
          "data": {
            "text/plain": [
              "array(['positive', 'negative', 'positive', ..., 'negative', 'positive',\n",
              "       'negative'], dtype='<U8')"
            ]
          },
          "metadata": {},
          "execution_count": 32
        }
      ],
      "source": [
        "message = vectorizer.transform([\"If you like original gut wrenching laughter you will like this movie. If you are young or old then you will love this movie, hell even my mom liked it. Great Camp!!!\"])\n",
        "#  review taken from positive class\n",
        "\n",
        "naive_model.predict(x_test)"
      ]
    },
    {
      "cell_type": "code",
      "execution_count": null,
      "metadata": {
        "id": "EgBwjDgXBol3",
        "colab": {
          "base_uri": "https://localhost:8080/"
        },
        "outputId": "723f7aa0-4880-441d-e5ef-ef619c5f699e"
      },
      "outputs": [
        {
          "output_type": "execute_result",
          "data": {
            "text/plain": [
              "0.8988077346393435"
            ]
          },
          "metadata": {},
          "execution_count": 33
        }
      ],
      "source": [
        "naive_model.predict_proba(message)[0][1]\n",
        "# probability that the review is classified under positive class"
      ]
    },
    {
      "cell_type": "code",
      "execution_count": null,
      "metadata": {
        "id": "t3jbXVaIBol4",
        "colab": {
          "base_uri": "https://localhost:8080/"
        },
        "outputId": "bf2def33-ca12-4a70-f6c9-6d98fee4b306"
      },
      "outputs": [
        {
          "output_type": "execute_result",
          "data": {
            "text/plain": [
              "0.10119226536065863"
            ]
          },
          "metadata": {},
          "execution_count": 34
        }
      ],
      "source": [
        "naive_model.predict_proba(message)[0][0]\n",
        "# probability that the review is classified under negative class"
      ]
    },
    {
      "cell_type": "code",
      "execution_count": null,
      "metadata": {
        "id": "OwUyc4T4Bol4",
        "colab": {
          "base_uri": "https://localhost:8080/"
        },
        "outputId": "26a32831-e473-446b-bba3-cb798439fefe"
      },
      "outputs": [
        {
          "output_type": "execute_result",
          "data": {
            "text/plain": [
              "array(['positive', 'negative', 'positive', ..., 'negative', 'positive',\n",
              "       'negative'], dtype='<U8')"
            ]
          },
          "metadata": {},
          "execution_count": 35
        }
      ],
      "source": [
        "message = vectorizer.transform([\"Oh God, I must have seen this when I was only 11 or twelve, (don't ask how) I may have been young, but I wasn't stupid. Anyone could see that this is a bad movie, nasty, gross, unscary and very silly. I've seen more impressive effects at Disneyland, I've seen better performances at a school play, And I've seen more convincing crocodiles at the zoo, where they do nothing but sit in the water, ignoring the children tapping on the glass.<br /><br />The story is set in northern Australia. A handful of ambitious young people, are trying out a new water sport, surfing in shark filled waters. It soon becomes evident that something more dangerous is in the water. After they learn what, they get the help of a grizzly middle aged fisherman, who wants to kill the animal to avenge the eating of his family.<br /><br />I think I have seen every crocodile film made in the last fifteen years, the best of which is Lake Placid, and the worse of which is its sequel. Blood Surf would have to be the second worst croc flick I think, with Primeval and Crocodile tailing closely behind. The Australian Saltwater Crododile is one of the most dangerous creatures out there, resulting in more than a hundred injuries or deaths every year. Movies like Blood Surf however ruin not only the ferocious image of such a creature, but a good hour and a half of the viewer's life. Unless you really want to see it, avoid Blood Surf.\"])\n",
        "#  review taken from negative class\n",
        "\n",
        "naive_model.predict(x_test)"
      ]
    },
    {
      "cell_type": "code",
      "execution_count": null,
      "metadata": {
        "id": "vKs1pNIjBol4",
        "colab": {
          "base_uri": "https://localhost:8080/"
        },
        "outputId": "eccbebc0-a6d0-4bb5-f139-27dabfb68253"
      },
      "outputs": [
        {
          "output_type": "execute_result",
          "data": {
            "text/plain": [
              "4.9258974244370965e-11"
            ]
          },
          "metadata": {},
          "execution_count": 36
        }
      ],
      "source": [
        "naive_model.predict_proba(message)[0][1]"
      ]
    },
    {
      "cell_type": "code",
      "execution_count": null,
      "metadata": {
        "id": "n5IG5QxhBol4",
        "colab": {
          "base_uri": "https://localhost:8080/"
        },
        "outputId": "4221f055-2787-446e-ff5c-456e274a888b"
      },
      "outputs": [
        {
          "output_type": "execute_result",
          "data": {
            "text/plain": [
              "0.9999999999507736"
            ]
          },
          "metadata": {},
          "execution_count": 37
        }
      ],
      "source": [
        "naive_model.predict_proba(message)[0][0]"
      ]
    },
    {
      "cell_type": "code",
      "execution_count": null,
      "metadata": {
        "id": "LwzJ653_Bol4"
      },
      "outputs": [],
      "source": [
        "end = time.time()"
      ]
    },
    {
      "cell_type": "code",
      "execution_count": null,
      "metadata": {
        "id": "6xeMXh44Bol5",
        "colab": {
          "base_uri": "https://localhost:8080/"
        },
        "outputId": "c82111ec-cd55-4187-9940-e95bba5bb7bf"
      },
      "outputs": [
        {
          "output_type": "stream",
          "name": "stdout",
          "text": [
            "Test time:  1429.918570280075\n"
          ]
        }
      ],
      "source": [
        "print(\"Test time: \",end-start)"
      ]
    },
    {
      "cell_type": "code",
      "source": [],
      "metadata": {
        "id": "wBdynaSPjT-G"
      },
      "execution_count": null,
      "outputs": []
    }
  ],
  "metadata": {
    "colab": {
      "provenance": [],
      "include_colab_link": true
    },
    "kernelspec": {
      "display_name": "Python 3",
      "language": "python",
      "name": "python3"
    },
    "language_info": {
      "codemirror_mode": {
        "name": "ipython",
        "version": 3
      },
      "file_extension": ".py",
      "mimetype": "text/x-python",
      "name": "python",
      "nbconvert_exporter": "python",
      "pygments_lexer": "ipython3",
      "version": "3.9.7"
    },
    "orig_nbformat": 4,
    "vscode": {
      "interpreter": {
        "hash": "aee8b7b246df8f9039afb4144a1f6fd8d2ca17a180786b69acc140d282b71a49"
      }
    }
  },
  "nbformat": 4,
  "nbformat_minor": 0
}